{
  "nbformat": 4,
  "nbformat_minor": 0,
  "metadata": {
    "colab": {
      "provenance": [],
      "authorship_tag": "ABX9TyMiJRjmIzDfBzTGiyhxCtCD",
      "include_colab_link": true
    },
    "kernelspec": {
      "name": "python3",
      "display_name": "Python 3"
    },
    "language_info": {
      "name": "python"
    }
  },
  "cells": [
    {
      "cell_type": "markdown",
      "metadata": {
        "id": "view-in-github",
        "colab_type": "text"
      },
      "source": [
        "<a href=\"https://colab.research.google.com/github/Nassi2007/Data-Science-Course/blob/main/Practice_Python_basics.ipynb\" target=\"_parent\"><img src=\"https://colab.research.google.com/assets/colab-badge.svg\" alt=\"Open In Colab\"/></a>"
      ]
    },
    {
      "cell_type": "markdown",
      "source": [
        "Write a program which computes the minimum of N given numbers."
      ],
      "metadata": {
        "id": "Fg1AbLZY6_lZ"
      }
    },
    {
      "cell_type": "markdown",
      "source": [
        "Write a program that resolves a first order equation.  i.e.  Finds the values of the variable x such that Ax+B=0, where A and B are given real numbers.\n",
        "Consider all the possible cases for A and B."
      ],
      "metadata": {
        "id": "D_SVWkwp67og"
      }
    },
    {
      "cell_type": "markdown",
      "source": [
        "Write a program which computes the factorial of a given number N. Consider all the possible cases for N"
      ],
      "metadata": {
        "id": "cZTXIEHA62vZ"
      }
    },
    {
      "cell_type": "markdown",
      "source": [
        "Write a program to input a string and count the number of each character. Use a dictionary."
      ],
      "metadata": {
        "id": "bV4hCUY573ix"
      }
    },
    {
      "cell_type": "markdown",
      "source": [
        "Write a program to display all the even numbers which are also divisible by 3 and which are between two given values: A and B, both included.\n"
      ],
      "metadata": {
        "id": "XHrKyuqT6zPX"
      }
    },
    {
      "cell_type": "markdown",
      "source": [
        "\n",
        "write the program, that given two lists with the same number of elements, concatenate them element-wise; Example :\n",
        "\n",
        "list1 = [\"M\", \"na\", \"i\", \"No\"]\n",
        "\n",
        "list2 = [\"y\", \"me\", \"s\", \"rah\"]\n",
        "\n",
        "Create a new list that contains items from both lists index-wise. The expected output should be ['My', 'name', 'is', 'Norah']\n"
      ],
      "metadata": {
        "id": "g0H9a_NS8rZM"
      }
    }
  ]
}