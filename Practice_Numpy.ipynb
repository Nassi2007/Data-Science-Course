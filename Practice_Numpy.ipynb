{
  "nbformat": 4,
  "nbformat_minor": 0,
  "metadata": {
    "colab": {
      "provenance": [],
      "authorship_tag": "ABX9TyOd9RVhWuVGWP+bda47jeaT",
      "include_colab_link": true
    },
    "kernelspec": {
      "name": "python3",
      "display_name": "Python 3"
    },
    "language_info": {
      "name": "python"
    }
  },
  "cells": [
    {
      "cell_type": "markdown",
      "metadata": {
        "id": "view-in-github",
        "colab_type": "text"
      },
      "source": [
        "<a href=\"https://colab.research.google.com/github/Nassi2007/Data-Science-Course/blob/main/Practice_Numpy.ipynb\" target=\"_parent\"><img src=\"https://colab.research.google.com/assets/colab-badge.svg\" alt=\"Open In Colab\"/></a>"
      ]
    },
    {
      "cell_type": "markdown",
      "source": [
        "Import the numpy package under the name np"
      ],
      "metadata": {
        "id": "TzwtO9Vu16Qw"
      }
    },
    {
      "cell_type": "markdown",
      "source": [
        "Create a null 1D-vector of size 20"
      ],
      "metadata": {
        "id": "jkCkgX5V20TV"
      }
    },
    {
      "cell_type": "markdown",
      "source": [
        "Create a null vector of size 20 but the fifth value which is 7"
      ],
      "metadata": {
        "id": "AGQZQBbo2YD2"
      }
    },
    {
      "cell_type": "markdown",
      "source": [
        "Create a ones vector having the shape (4,2,5)"
      ],
      "metadata": {
        "id": "xiMRRPnd2-vy"
      }
    },
    {
      "cell_type": "markdown",
      "source": [
        "Create a vector with values ranging from 10 to 49"
      ],
      "metadata": {
        "id": "fN5EBZil2fyd"
      }
    },
    {
      "cell_type": "markdown",
      "source": [
        "Create a 3x3 matrix with values ranging from 0 to 8"
      ],
      "metadata": {
        "id": "RMDogXUs3bl6"
      }
    }
  ]
}